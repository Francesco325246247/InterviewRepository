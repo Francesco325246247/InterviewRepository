{
 "cells": [
  {
   "cell_type": "code",
   "execution_count": null,
   "metadata": {
    "collapsed": true
   },
   "outputs": [],
   "source": [
    "#------------Basic Operators------------\n",
    "\n",
    "#sum\n",
    "print(2 + 1)\n",
    "\n",
    "#subtraction\n",
    "print(3 - 2)\n",
    "\n",
    "#multiplication\n",
    "print(2 * 2)\n",
    "\n",
    "#Power\n",
    "print(2 ** 2)\n",
    "\n",
    "#divisions\n",
    "print(4 / 2.0)\n",
    "print(int(4 / 2))\n",
    "print(type(str(4/2)))\n",
    "\n",
    "#Modulus\n",
    "print(5 % 2)\n",
    "print(5 % 1)\n"
   ]
  },
  {
   "cell_type": "code",
   "execution_count": null,
   "metadata": {
    "collapsed": true
   },
   "outputs": [],
   "source": [
    "# ------------ Assignment Operators ------------ \n",
    "\n",
    "#equal\n",
    "=\n",
    "#increment\n",
    "+=\n",
    "#decrement\n",
    "-=\n",
    "#multiply\n",
    "*=\n",
    "#divide\n",
    "/=\n",
    "#exponent\n",
    "**=\n",
    "\n"
   ]
  },
  {
   "cell_type": "code",
   "execution_count": 26,
   "metadata": {},
   "outputs": [
    {
     "name": "stdout",
     "output_type": "stream",
     "text": [
      "<class 'int'>\n",
      "<class 'float'>\n",
      "<class 'str'>\n",
      "<class 'bool'>\n",
      "False\n",
      "True\n",
      "False\n",
      "True\n",
      "False\n",
      "True\n",
      "False\n",
      "True\n"
     ]
    }
   ],
   "source": [
    "#-----------Variables------------\n",
    "\n",
    "#int\n",
    "integer_var = 12\n",
    "print(type(integer_var))\n",
    "\n",
    "#float\n",
    "float_var = 2.5\n",
    "print(type(float_var))\n",
    "\n",
    "#string\n",
    "string_var = 'I am a string' \"I am a string\"\n",
    "print(type(string_var))\n",
    "\n",
    "#boolean\n",
    "a = 2\n",
    "b = 3\n",
    "print(type(a==b))\n",
    "print(a==b)\n",
    "print(a<b)\n",
    "print(a>b)\n",
    "print(a<=b)\n",
    "print(a>=b)\n",
    "print(a!=b)\n",
    "print(a>b and b==b)\n",
    "print(a>b or b==b)"
   ]
  },
  {
   "cell_type": "code",
   "execution_count": null,
   "metadata": {
    "collapsed": true
   },
   "outputs": [],
   "source": [
    "#------------Data Type Conversion-------------\n",
    "\n",
    "#int(x) Cast an int value\n",
    "#str(x) Cast a string value\n",
    "#eval(str) Evaluate the string and return an object\n",
    "#tuple(s) Convert a read-only touples\n",
    "#list(s) Convert it to a list\n",
    "#set(s) Convert it to a set\n",
    "#dict(d) Creates a dictionary. d must be a sequence of (key,value) tuples."
   ]
  },
  {
   "cell_type": "code",
   "execution_count": null,
   "metadata": {
    "collapsed": true
   },
   "outputs": [],
   "source": [
    "#------------Print method------------\n",
    "x = 'I am a string'\n",
    "print(x)\n",
    "\n",
    "age  = 19\n",
    "sex = \"girl\"\n",
    "country = \"USA\"\n",
    "name = \"Kelly\"\n",
    "\n",
    "print(\"My name is {} and I am {} years old. I am a {} from {}\".format(name,age,sex,country))\n",
    "print(\"My name is {name} and I am {age} years old. I am a {sex} from {country}\".format(name=name,age=age,sex=sex,country=country))\n",
    "\n",
    "#string are an array of characters \n",
    "string = \"I am another string\"\n",
    "string[5]\n",
    "string[1:5]\n",
    "string[5:]\n",
    "string[:5]\n",
    "\n"
   ]
  },
  {
   "cell_type": "code",
   "execution_count": null,
   "metadata": {
    "collapsed": true
   },
   "outputs": [],
   "source": [
    "#------------String formatting: basic methods------------\n",
    "\n",
    "website = \"http://www.MINdwareLaB.org\"\n",
    "\n",
    "print(website.upper())\n",
    "print(website.lower())\n",
    "print(website.split(\".\"))\n",
    "print(website.split(\"//\"))\n",
    "print(website.split(\"www\"))\n",
    "print(website.split(\".\")[1])\n",
    "print(website.split(\".\")[2])\n"
   ]
  },
  {
   "cell_type": "code",
   "execution_count": null,
   "metadata": {
    "collapsed": true
   },
   "outputs": [],
   "source": [
    "#------------String formatting: string escape -----------\n",
    "\n",
    "\n",
    "#\\\\\tBackslash (\\)\n",
    "print(\"\\\\\")\n",
    "\n",
    "\n",
    "#\\'\tSingle quote (')\n",
    "print(\"\\'\")\n",
    "\n",
    "\n",
    "#\\\"\tDouble quote (\")\n",
    "print(\"\\\"mindwarelab\\\"\")\n",
    "\n",
    "\n",
    "#\\b\tASCII Backspace (BS)\n",
    "print(\"Mindwarelab\\b\")\n",
    "\n",
    "\n",
    "#\\n\tASCII Linefeed (LF)\n",
    "print(\"Mindware\\nlab\")\n",
    "\n",
    "\n",
    "#\\t\tASCII Horizontal Tab (TAB)\n",
    "print(\"\\tmindwarelab\")\n"
   ]
  },
  {
   "cell_type": "code",
   "execution_count": null,
   "metadata": {
    "collapsed": true
   },
   "outputs": [],
   "source": [
    "#------------List vs Touples vs Dictionaries memorandum------------\n",
    "list1 = [] #this is a list\n",
    "touples1 = () #this is a touple\n",
    "disctionaries = {} #this is a dictionary\n",
    " "
   ]
  },
  {
   "cell_type": "code",
   "execution_count": null,
   "metadata": {
    "collapsed": true
   },
   "outputs": [],
   "source": [
    "#------------List------------\n",
    "#Similar to the arrays, but it can contain mixed data type\n",
    "\n",
    "list1 = [\"USA\", 99, \"guns\"]\n",
    "list2 = [44,77,87.7,55]\n",
    "\n",
    "#len \n",
    "print(len(list1))\n",
    "\n",
    "#type\n",
    "print(type(list1))\n",
    "\n",
    "#max\n",
    "print(max(list2))\n",
    "\n",
    "#min\n",
    "print(min(list2))\n",
    "\n",
    "#sort\n",
    "list2.sort()\n",
    "print(list2)\n",
    "\n",
    "#Adding items to a list\n",
    "list1.append(\"chocolate\")\n",
    "print(list1)\n",
    "\n",
    "#removing items from a list\n",
    "print(\"removed: \"+ str(list1.pop(1)))\n",
    "print(list1)\n",
    "\n",
    "#check an item inside a list\n",
    "print(\"x\" in [\"x\",88,\"Torino\"])\n",
    "\n"
   ]
  },
  {
   "cell_type": "code",
   "execution_count": null,
   "metadata": {
    "collapsed": true
   },
   "outputs": [],
   "source": [
    "#------------Dictionaries------------\n",
    "\n",
    "dictionary1 = {\"key1\":\"Ferrari\",\"key2\":\"Mercedes\"}\n",
    "dictionary2 = {\"key1\":[14,77,54],\"key2\":\"Mercedes\"}\n",
    "dictionary3 = {\"key1\":{\"numbers\":[55,43,99]},\"key2\":\"Mercedes\"}\n",
    "\n",
    "#Accessing values inside a nested dictionary\n",
    "print(dictionary3[\"key1\"][\"numbers\"][2])\n",
    "\n",
    "#some extra things you can do with the dictionaries\n",
    "print(dictionary1.keys())\n",
    "print(dictionary1.items())\n",
    "print(dictionary1.values())\n",
    "\n",
    "\n"
   ]
  },
  {
   "cell_type": "code",
   "execution_count": null,
   "metadata": {
    "collapsed": true
   },
   "outputs": [],
   "source": [
    "#------------Set------------\n",
    "set1 = {1,2,6,7,5,5}\n",
    "set1.add(9)\n",
    "set1\n",
    "\n",
    "\n"
   ]
  },
  {
   "cell_type": "code",
   "execution_count": null,
   "metadata": {
    "collapsed": true,
    "scrolled": true
   },
   "outputs": [],
   "source": [
    "#------------Touples------------\n",
    "\n",
    "#touples are read-only \n",
    "tup1 = (\"moon\", \"venus\", 2017, 2009)\n",
    "print(tup1)\n",
    "\n",
    "#Operation on list of touples\n",
    "num = [(0,1),(1,1),(0,0)]\n",
    "for a,b in num: print(a)"
   ]
  },
  {
   "cell_type": "code",
   "execution_count": null,
   "metadata": {
    "collapsed": true
   },
   "outputs": [],
   "source": [
    "#-----------Logic------------\n",
    "\n",
    "a = 10\n",
    "b = 20\n",
    "\n",
    "if a == b:\n",
    "    print(\"Something is wrong here\")\n",
    "elif b == b:\n",
    "    print(\"How obvious\")\n",
    "else:\n",
    "    print(\"uhm\")\n"
   ]
  },
  {
   "cell_type": "code",
   "execution_count": null,
   "metadata": {
    "collapsed": true,
    "scrolled": true
   },
   "outputs": [],
   "source": [
    "#------------Repeated actions------------\n",
    "\n",
    "age_set=[33,56,78,92,11]\n",
    "for numbers in age_set:\n",
    "    print(\"Someone has {} years old\".format(numbers))\n",
    "    print(\"Increment the age of {} + 1 -> \".format(numbers)+ str(numbers+1)) \n",
    "\n",
    "for numbers in list(range(1,10)):\n",
    "    print(numbers)\n",
    "    \n",
    "print(list(range(5)))\n",
    "    \n",
    "a = 1\n",
    "while a < 10:\n",
    "    print(\"a is {}\".format(a))\n",
    "    a = a + 1"
   ]
  },
  {
   "cell_type": "code",
   "execution_count": null,
   "metadata": {
    "collapsed": true
   },
   "outputs": [],
   "source": [
    "#------------Appending items to a list with a for loop------------\n",
    "\n",
    "my_list = []\n",
    "for numbers in range(10):\n",
    "    my_list.append(numbers **2)\n",
    "print(my_list)\n",
    "\n",
    "#List Comprehensions\n",
    "print([numbers **2 for numbers in range(10)])\n",
    "print([numbers **2 for numbers in range(10) if numbers % 2 == 0])"
   ]
  },
  {
   "cell_type": "code",
   "execution_count": 20,
   "metadata": {},
   "outputs": [
    {
     "name": "stdout",
     "output_type": "stream",
     "text": [
      "hello MindwareLab\n",
      "hello {error: name not assigned}\n",
      "100\n",
      "34\n"
     ]
    },
    {
     "ename": "NameError",
     "evalue": "name 'surname' is not defined",
     "output_type": "error",
     "traceback": [
      "\u001b[1;31m---------------------------------------------------------------------------\u001b[0m",
      "\u001b[1;31mNameError\u001b[0m                                 Traceback (most recent call last)",
      "\u001b[1;32m<ipython-input-20-54bebb219351>\u001b[0m in \u001b[0;36m<module>\u001b[1;34m()\u001b[0m\n\u001b[0;32m     19\u001b[0m \u001b[1;33m\u001b[0m\u001b[0m\n\u001b[0;32m     20\u001b[0m \u001b[0mprint\u001b[0m\u001b[1;33m(\u001b[0m\u001b[0mage\u001b[0m\u001b[1;33m)\u001b[0m\u001b[1;33m\u001b[0m\u001b[0m\n\u001b[1;32m---> 21\u001b[1;33m \u001b[0mprint\u001b[0m\u001b[1;33m(\u001b[0m\u001b[0msurname\u001b[0m\u001b[1;33m)\u001b[0m\u001b[1;33m\u001b[0m\u001b[0m\n\u001b[0m\u001b[0;32m     22\u001b[0m \u001b[1;33m\u001b[0m\u001b[0m\n",
      "\u001b[1;31mNameError\u001b[0m: name 'surname' is not defined"
     ]
    }
   ],
   "source": [
    "#------------functions------------\n",
    "\n",
    "def welcome(name = \"{error: name not assigned}\"):\n",
    "    global age\n",
    "    age = 34\n",
    "    surname = \"Black\"\n",
    "    print(\"hello {}\".format(name))\n",
    "\n",
    "welcome(\"MindwareLab\")\n",
    "welcome()\n",
    "\n",
    "def power(numbers, power):\n",
    "    return numbers **power\n",
    "\n",
    "output = power(10,2)\n",
    "power(7,37)\n",
    "\n",
    "print(output)\n",
    "\n",
    "print(age)\n",
    "print(surname)\n",
    "\n"
   ]
  },
  {
   "cell_type": "code",
   "execution_count": null,
   "metadata": {
    "collapsed": true
   },
   "outputs": [],
   "source": [
    "#------------Maps and lambda------------\n",
    "from functools import reduce\n",
    "list_of_number = [1,2,3,4,5,6,7,8,9,10]\n",
    "\n",
    "#maps a function\n",
    "def power2(num):\n",
    "    return num **2\n",
    "print(list(map(power2,list_of_number)))\n",
    "\n",
    "#labda functions \n",
    "print(list(map(lambda n: n**2, list_of_number)))\n",
    "print(list(map(lambda n: n**2, range(11))))\n",
    "\n",
    "#Filters\n",
    "print(list(filter(lambda x: x<=5, list_of_number)))\n",
    "print(list(filter(lambda x: x%2 == 0, list_of_number)))\n",
    "print(list(filter(lambda x: x%2 == 1, list_of_number)))\n",
    "\n",
    "#Reduce\n",
    "print(reduce((lambda x, y: x*y), [1,2,3,4,5,6,7,8,9,10]))\n",
    "print(reduce((lambda x, y: x*y), list_of_number))\n"
   ]
  },
  {
   "cell_type": "code",
   "execution_count": null,
   "metadata": {
    "collapsed": true
   },
   "outputs": [],
   "source": [
    "#----------Classes-----------\n",
    "class Employee:\n",
    "    def __init__(self,first,last,pay):\n",
    "        self.first = first\n",
    "        self.last = last\n",
    "        self.pay = pay\n",
    "        self.email = first+last+\"@mindwarelab.com\"\n",
    "        \n",
    "    def fullname(self):\n",
    "        return \"{} {}\".format(self.first, self.last)\n",
    "    \n",
    "    def increse_salary(self):\n",
    "        self.pay =  int(self.pay + 10)\n",
    "\n",
    "#Creating Instance Objects\n",
    "employee1 = Employee(\"Frak\",\"Lasagna\", 10)\n",
    "\n",
    "#Accessing Attributes\n",
    "print(employee1.email.lower())\n",
    "print(employee1.fullname())\n",
    "print(\"Salary before the increase in the salary is equal to {}\".format(employee1.pay))\n",
    "\n",
    "#increase the salary\n",
    "employee1.increse_salary()\n",
    "print(\"Salary after the increase in the salary is equal to {}\".format(employee1.pay))\n",
    "\n",
    "#hiding variable\n",
    "class Missle_luncher:\n",
    "    __timer = 0 \n",
    "    def counter(self):\n",
    "        self.__timer =+1\n",
    "        print(\"{} hours before the next strike.\".format(self.__timer))\n",
    "\n",
    "missle1 = Missle_luncher()\n",
    "missle1.counter()\n",
    "#print(missle1.__timer) #AttributeError: 'Missle_luncher' object has no attribute '__timer'\n",
    "\n",
    "        \n",
    "\n",
    "        "
   ]
  },
  {
   "cell_type": "code",
   "execution_count": 8,
   "metadata": {},
   "outputs": [],
   "source": [
    "# -----------import libraries and Code introspection ------------\n",
    "import pandas\n",
    "import numpy\n",
    "\n",
    "\n",
    "#pandas?\n",
    "#numpy?\n",
    "#dir(pandas) #functionality\n",
    "#pandas.DataFrame?\n",
    "\n"
   ]
  },
  {
   "cell_type": "code",
   "execution_count": null,
   "metadata": {
    "collapsed": true
   },
   "outputs": [],
   "source": [
    "#----------Time handling-----------\n",
    "\n",
    "import time\n",
    "import calendar\n",
    "\n",
    "localtime = time.asctime( time.localtime(time.time()) )\n",
    "print (\"What time is it? {}\".format(localtime))\n",
    "cal = calendar.month(2017, 4)\n",
    "print(cal)"
   ]
  },
  {
   "cell_type": "code",
   "execution_count": null,
   "metadata": {
    "collapsed": true
   },
   "outputs": [],
   "source": [
    "#---------Handling errors ---------\n",
    "\n",
    "try: #try this code\n",
    "    pass #some code goes here\n",
    "except: #if happen this well-know possible exception, please do this\n",
    "    pass #some code goes here\n",
    "except: #if happen this well-know possible exception, please do this\n",
    "    pass #some code goes here\n",
    "else: #if happens something else that we are not aware of\n",
    "    pass #some code goes here\n",
    "finally: #this code will be always execute no matter what\n",
    "    pass #some code goes here"
   ]
  },
  {
   "cell_type": "code",
   "execution_count": null,
   "metadata": {
    "collapsed": true
   },
   "outputs": [],
   "source": [
    "# ----------- Regex ------------\n",
    "#Regex is something horrible at the first glance, but it is not that bad at all if few focus your attention for few minutes.\n",
    "#(?:(?:https?|ftp|file):\\/\\/|www\\.|ftp\\.)(?:\\([-A-Z0-9+&@#\\/%=~_|$?!:,.]*\\)|[-A-Z0-9+&@#\\/%=~_|$?!:,.])*(?:\\([-A-Z0-9+&@#\\/%=~_|$?!:,.]*\\)|[A-Z0-9+&@#\\/%=~_|$])\n",
    "\n",
    "#<\\s*a[^>]*>(.*?)<\\s*/\\s*a>\n",
    "\n",
    "# https://regexone.com/"
   ]
  },
  {
   "cell_type": "code",
   "execution_count": 30,
   "metadata": {
    "scrolled": true
   },
   "outputs": [
    {
     "name": "stdout",
     "output_type": "stream",
     "text": [
      "bomb5 Kabooom!!!\n",
      "\n",
      "bomb4 Kabooom!!!\n",
      "\n",
      "bomb3 Kabooom!!!\n",
      "\n",
      "bomb2 Kabooom!!!\n",
      "\n",
      "bomb6 Kabooom!!!\n",
      "\n",
      "bomb1 Kabooom!!!\n",
      "\n"
     ]
    }
   ],
   "source": [
    "# ----------- Multithreaded Programming ------------\n",
    "import _thread\n",
    "import time\n",
    "\n",
    "\n",
    "def bomb(name, timer):\n",
    "    \n",
    "    while timer > 0:\n",
    "        #print(\"{} timer is ticking, {} seconds left\\n\".format(name, timer))\n",
    "        timer -=1\n",
    "        time.sleep(1)\n",
    "    return print(\"{} Kabooom!!!\\n\".format(name))\n",
    "\n",
    "try:\n",
    "    _thread.start_new_thread(bomb, (\"bomb1\",10,))\n",
    "    _thread.start_new_thread(bomb, (\"bomb2\",8,))\n",
    "    _thread.start_new_thread(bomb, (\"bomb3\",6,))\n",
    "    _thread.start_new_thread(bomb, (\"bomb4\",4,))\n",
    "    _thread.start_new_thread(bomb, (\"bomb5\",2,))\n",
    "    _thread.start_new_thread(bomb, (\"bomb6\",8,))\n",
    "except:\n",
    "    print(\"My God, it is full of stars!\")\n",
    "\n",
    "    \n",
    "            "
   ]
  },
  {
   "cell_type": "code",
   "execution_count": null,
   "metadata": {
    "collapsed": true
   },
   "outputs": [],
   "source": []
  }
 ],
 "metadata": {
  "kernelspec": {
   "display_name": "Python 3",
   "language": "python",
   "name": "python3"
  },
  "language_info": {
   "codemirror_mode": {
    "name": "ipython",
    "version": 3
   },
   "file_extension": ".py",
   "mimetype": "text/x-python",
   "name": "python",
   "nbconvert_exporter": "python",
   "pygments_lexer": "ipython3",
   "version": "3.6.1"
  }
 },
 "nbformat": 4,
 "nbformat_minor": 2
}
